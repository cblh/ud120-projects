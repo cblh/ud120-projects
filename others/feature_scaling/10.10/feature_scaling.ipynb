{
 "cells": [
  {
   "cell_type": "code",
   "execution_count": 12,
   "metadata": {
    "collapsed": false
   },
   "outputs": [
    {
     "name": "stdout",
     "output_type": "stream",
     "text": [
      "<map object at 0x10a082898>\n"
     ]
    }
   ],
   "source": [
    "\"\"\" quiz materials for feature scaling clustering \"\"\"\n",
    "\n",
    "### FYI, the most straightforward implementation might \n",
    "### throw a divide-by-zero error, if the min and max\n",
    "### values are the same\n",
    "### but think about this for a second--that means that every\n",
    "### data point has the same value for that feature!  \n",
    "### why would you rescale it?  Or even use it at all?\n",
    "\n",
    "from __future__ import division\n",
    "import numpy\n",
    "\n",
    "def featureScaling(arr):\n",
    "    maxOne = max(arr)\n",
    "    minOne = min(arr)\n",
    "    diferencia = maxOne - minOne\n",
    "    if(diferencia==0):\n",
    "        a = numpy.array(arr)\n",
    "        a.fill(0.5)\n",
    "        return a\n",
    "    def scaler(item):\n",
    "        return (item - minOne) / diferencia\n",
    "    return map(scaler, arr)\n",
    "\n",
    "# tests of your feature scaler--line below is input data\n",
    "data = [115, 140, 175]\n",
    "scaledData = featureScaling(data)\n",
    "print(scaledData)\n",
    "# numpy.set_printoptions(threshold=numpy.nan)"
   ]
  },
  {
   "cell_type": "code",
   "execution_count": 9,
   "metadata": {},
   "outputs": [
    {
     "name": "stdout",
     "output_type": "stream",
     "text": [
      "/Users/burlinchen/Projects/git-projects/ud120-projects/others\n/Users/burlinchen/Projects/git-projects/ud120-projects/others\n"
     ]
    },
    {
     "data": {
      "text/plain": [
       "145"
      ]
     },
     "execution_count": 9,
     "metadata": {},
     "output_type": "execute_result"
    }
   ],
   "source": [
    "#!/usr/bin/python \n",
    "\n",
    "\"\"\" \n",
    "    Skeleton code for k-means clustering mini-project.\n",
    "\"\"\"\n",
    "import os\n",
    "\n",
    "print(os.getcwd())\n",
    "\n",
    "os.chdir('/Users/burlinchen/Projects/git-projects/ud120-projects/others')\n",
    "\n",
    "print(os.getcwd())\n",
    "import pickle\n",
    "import sys\n",
    "sys.path.append(\"../tools/\")\n",
    "\n",
    "### load in the dict of dicts containing all the data on each person in the dataset\n",
    "data_dict = pickle.load( open(\"../final_project/final_project_dataset.pkl\", \"rb\") )\n",
    "### there's an outlier--remove it! \n",
    "data_dict.pop(\"TOTAL\", 0)\n",
    "\n",
    "len(data_dict)"
   ]
  },
  {
   "cell_type": "code",
   "execution_count": 14,
   "metadata": {},
   "outputs": [
    {
     "data": {
      "text/plain": [
       "(34348384, 3285)"
      ]
     },
     "execution_count": 14,
     "metadata": {},
     "output_type": "execute_result"
    }
   ],
   "source": [
    "# 练习: 股票期权范围\n",
    "options = [p[\"exercised_stock_options\"] for p in data_dict.values() if p[\"exercised_stock_options\"] != \"NaN\"]\n",
    "maxOption = max(options)\n",
    "minOption = min(options)\n",
    "maxOption, minOption"
   ]
  },
  {
   "cell_type": "code",
   "execution_count": 17,
   "metadata": {},
   "outputs": [
    {
     "data": {
      "text/plain": [
       "(1111258, 477)"
      ]
     },
     "execution_count": 17,
     "metadata": {},
     "output_type": "execute_result"
    }
   ],
   "source": [
    "# 练习: salary 范围\n",
    "salaries = [p[\"salary\"] for p in data_dict.values() if p[\"salary\"] != \"NaN\"]\n",
    "max_salary = max(salaries)\n",
    "min_salary = min(salaries)\n",
    "max_salary, min_salary"
   ]
  },
  {
   "cell_type": "code",
   "execution_count": 19,
   "metadata": {
    "collapsed": false
   },
   "outputs": [
    {
     "data": {
      "text/plain": [
       "(0.17962406631010072, 0.029020588934683227)"
      ]
     },
     "execution_count": 19,
     "metadata": {},
     "output_type": "execute_result"
    }
   ],
   "source": [
    "# 计算重缩放特征\n",
    "feature_salary_value = 200000 \n",
    "rescaled_salary_value = (feature_salary_value - min_salary) / (max_salary - min_salary)\n",
    "\n",
    "feature_option_value = 1000000 \n",
    "rescaled_option_value = (feature_option_value - minOption) / (maxOption - minOption)\n",
    "\n",
    "rescaled_salary_value, rescaled_option_value"
   ]
  },
  {
   "cell_type": "code",
   "execution_count": 12,
   "metadata": {},
   "outputs": [],
   "source": [
    ""
   ]
  },
  {
   "cell_type": "code",
   "execution_count": null,
   "metadata": {},
   "outputs": [],
   "source": [
    ""
   ]
  }
 ],
 "metadata": {
  "kernelspec": {
   "display_name": "Python 2",
   "language": "python",
   "name": "python2"
  },
  "language_info": {
   "codemirror_mode": {
    "name": "ipython",
    "version": 2.0
   },
   "file_extension": ".py",
   "mimetype": "text/x-python",
   "name": "python",
   "nbconvert_exporter": "python",
   "pygments_lexer": "ipython2",
   "version": "2.7.6"
  }
 },
 "nbformat": 4,
 "nbformat_minor": 0
}